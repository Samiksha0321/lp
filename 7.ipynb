{
  "nbformat": 4,
  "nbformat_minor": 0,
  "metadata": {
    "colab": {
      "name": "7.ipynb",
      "provenance": []
    },
    "kernelspec": {
      "name": "python3",
      "display_name": "Python 3"
    },
    "language_info": {
      "name": "python"
    }
  },
  "cells": [
    {
      "cell_type": "code",
      "execution_count": null,
      "metadata": {
        "id": "3UtAzg6KA9ak"
      },
      "outputs": [],
      "source": [
        "#RSA\n",
        "\n",
        "def gcd(a, b):\n",
        "  if a==0:\n",
        "    return b\n",
        "  else:\n",
        "    return gcd(b%a, a)\n",
        "\n",
        "# Selecting 2 prime numbers\n",
        "P = 53\n",
        "Q = 59\n",
        "\n",
        "public_1 = P*Q\n",
        "phi_public_1 = (P-1)*(Q-1)\n",
        "\n",
        "# Generate 1 < public_2 < phi_public_1\n",
        "public_2 = 2\n",
        "while public_2 < phi_public_1:\n",
        "  if gcd(public_2, phi_public_1) == 1:\n",
        "    break\n",
        "  public_2+=1\n",
        "\n",
        "\n",
        "# Generate private key\n",
        "k = 3\n",
        "while (k * phi_public_1 + 1) % public_2 !=0:\n",
        "  k+=1\n",
        "\n",
        "private_key = (k * phi_public_1 + 1) // public_2\n",
        "public_key = [public_2, public_1]\n",
        "\n",
        "# Input data\n",
        "input = 89\n",
        "\n",
        "# Encrypt\n",
        "encrypted_data = input ** public_2 % public_1\n",
        "print(encrypted_data)\n",
        "\n",
        "# Decrypt\n",
        "decrypted_data = encrypted_data ** private_key % public_1\n",
        "print(decrypted_data)"
      ]
    }
  ]
}